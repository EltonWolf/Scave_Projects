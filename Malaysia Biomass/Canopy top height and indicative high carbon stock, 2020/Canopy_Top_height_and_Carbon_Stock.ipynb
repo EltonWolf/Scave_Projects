{
  "nbformat": 4,
  "nbformat_minor": 0,
  "metadata": {
    "colab": {
      "provenance": []
    },
    "kernelspec": {
      "name": "python3",
      "display_name": "Python 3"
    },
    "language_info": {
      "name": "python"
    }
  },
  "cells": [
    {
      "cell_type": "code",
      "execution_count": 1,
      "metadata": {
        "id": "07AMFDxgxHYO"
      },
      "outputs": [],
      "source": [
        "import ee"
      ]
    },
    {
      "cell_type": "code",
      "source": [
        "ee.Authenticate()"
      ],
      "metadata": {
        "id": "djjgMCi9zdF1"
      },
      "execution_count": 2,
      "outputs": []
    },
    {
      "cell_type": "code",
      "source": [
        "ee.Initialize(project=\"co2calculator-407613\")"
      ],
      "metadata": {
        "id": "5zdCNNkfze2V"
      },
      "execution_count": 3,
      "outputs": []
    },
    {
      "cell_type": "code",
      "source": [
        "#Load country data\n",
        "countries = ee.FeatureCollection('USDOS/LSIB_SIMPLE/2017')\n",
        "Malaysia = countries.filter(ee.Filter.eq('country_na', 'Malaysia'))"
      ],
      "metadata": {
        "id": "kOqG7RAhzoX3"
      },
      "execution_count": 4,
      "outputs": []
    },
    {
      "cell_type": "code",
      "source": [
        "canopy_height = ee.Image(\"users/nlang/ETH_GlobalCanopyHeight_2020_10m_v1\")\n",
        "standard_deviation = ee.Image(\"users/nlang/ETH_GlobalCanopyHeightSD_2020_10m_v1\")"
      ],
      "metadata": {
        "id": "PNeVt185zrcd"
      },
      "execution_count": 6,
      "outputs": []
    },
    {
      "cell_type": "code",
      "source": [
        "canopy_vis = {\"min\": 0, \"max\": 50, \"palette\": [\"#010005\", \"#150b37\", \"#3b0964\", \"#61136e\", \"#85216b\", \"#a92e5e\", \"#cc4248\", \"#e75e2e\", \"#f78410\", \"#fcae12\", \"#f5db4c\", \"#fcffa4\"]}\n",
        "sd_vis = {\"min\": 0, \"max\": 15, \"palette\": [\"#0d0406\", \"#241628\", \"#36274d\", \"#403a76\", \"#3d5296\", \"#366da0\", \"#3488a6\", \"#36a2ab\", \"#44bcad\", \"#6dd3ad\", \"#aee3c0\", \"#def5e5\"]}"
      ],
      "metadata": {
        "id": "83i1UyOKz7Nl"
      },
      "execution_count": 7,
      "outputs": []
    },
    {
      "cell_type": "code",
      "source": [
        "import folium"
      ],
      "metadata": {
        "id": "mIlkl46X0rTF"
      },
      "execution_count": 8,
      "outputs": []
    },
    {
      "cell_type": "code",
      "source": [
        "# Define a method for displaying Earth Engine image tiles to folium map.\n",
        "def add_ee_layer(self, ee_image_object, vis_params, name):\n",
        "  map_id_dict = ee.Image(ee_image_object).getMapId(vis_params)\n",
        "  folium.raster_layers.TileLayer(\n",
        "    tiles = map_id_dict['tile_fetcher'].url_format,\n",
        "    attr = 'Map Data &copy; <a href=\"https://earthengine.google.com/\">Google Earth Engine</a>',\n",
        "    name = name,\n",
        "    overlay = True,\n",
        "    control = True\n",
        "  ).add_to(self)\n",
        "\n",
        "# Add EE drawing method to folium.\n",
        "folium.Map.add_ee_layer = add_ee_layer"
      ],
      "metadata": {
        "id": "aTxy3oMM1JCD"
      },
      "execution_count": 22,
      "outputs": []
    },
    {
      "cell_type": "code",
      "source": [
        "# Create the map object.\n",
        "my_map = folium.Map(location=[4.2105, 101.9758], zoom_start=6)\n",
        "\n",
        "# Add base map\n",
        "basemaps = {'Google Satellite Hybrid': folium.TileLayer(\n",
        "tiles = 'https://mt1.google.com/vt/lyrs=s&x={x}&y={y}&z={z}',\n",
        "attr = 'Google',\n",
        "name = 'Google Satellite Hybrid',\n",
        "overlay = True,\n",
        "control = True\n",
        ")}\n",
        "basemaps['Google Satellite Hybrid'].add_to(Map)"
      ],
      "metadata": {
        "colab": {
          "base_uri": "https://localhost:8080/"
        },
        "id": "V6K4l6x51KGL",
        "outputId": "27fc4c44-4726-45fb-c082-dde10c2f8d2a"
      },
      "execution_count": 23,
      "outputs": [
        {
          "output_type": "execute_result",
          "data": {
            "text/plain": [
              "<folium.raster_layers.TileLayer at 0x7e77529c5ab0>"
            ]
          },
          "metadata": {},
          "execution_count": 23
        }
      ]
    },
    {
      "cell_type": "code",
      "source": [
        "#Display\n",
        "my_map.add_ee_layer(canopy_height.clip(Malaysia), canopy_vis, \"Canopy\")\n",
        "my_map.add_ee_layer(standard_deviation.clip(Malaysia), sd_vis, \"Standard Deviation\")\n",
        "\n",
        "# Add a layer control panel to the map.\n",
        "my_map.add_child(folium.LayerControl())\n",
        "\n",
        "# Display the map.\n",
        "display(my_map)"
      ],
      "metadata": {
        "colab": {
          "base_uri": "https://localhost:8080/",
          "height": 903
        },
        "id": "EFcPh2XE1ZpF",
        "outputId": "e66614ff-8266-40b1-db55-f1a6939b7a7c"
      },
      "execution_count": 24,
      "outputs": [
        {
          "output_type": "display_data",
          "data": {
            "text/plain": [
              "<folium.folium.Map at 0x7e7752a17160>"
            ],
            "text/html": [
              "<div style=\"width:100%;\"><div style=\"position:relative;width:100%;height:0;padding-bottom:60%;\"><span style=\"color:#565656\">Make this Notebook Trusted to load map: File -> Trust Notebook</span><iframe srcdoc=\"&lt;!DOCTYPE html&gt;\n",
              "&lt;html&gt;\n",
              "&lt;head&gt;\n",
              "    \n",
              "    &lt;meta http-equiv=&quot;content-type&quot; content=&quot;text/html; charset=UTF-8&quot; /&gt;\n",
              "    \n",
              "        &lt;script&gt;\n",
              "            L_NO_TOUCH = false;\n",
              "            L_DISABLE_3D = false;\n",
              "        &lt;/script&gt;\n",
              "    \n",
              "    &lt;style&gt;html, body {width: 100%;height: 100%;margin: 0;padding: 0;}&lt;/style&gt;\n",
              "    &lt;style&gt;#map {position:absolute;top:0;bottom:0;right:0;left:0;}&lt;/style&gt;\n",
              "    &lt;script src=&quot;https://cdn.jsdelivr.net/npm/leaflet@1.9.3/dist/leaflet.js&quot;&gt;&lt;/script&gt;\n",
              "    &lt;script src=&quot;https://code.jquery.com/jquery-1.12.4.min.js&quot;&gt;&lt;/script&gt;\n",
              "    &lt;script src=&quot;https://cdn.jsdelivr.net/npm/bootstrap@5.2.2/dist/js/bootstrap.bundle.min.js&quot;&gt;&lt;/script&gt;\n",
              "    &lt;script src=&quot;https://cdnjs.cloudflare.com/ajax/libs/Leaflet.awesome-markers/2.0.2/leaflet.awesome-markers.js&quot;&gt;&lt;/script&gt;\n",
              "    &lt;link rel=&quot;stylesheet&quot; href=&quot;https://cdn.jsdelivr.net/npm/leaflet@1.9.3/dist/leaflet.css&quot;/&gt;\n",
              "    &lt;link rel=&quot;stylesheet&quot; href=&quot;https://cdn.jsdelivr.net/npm/bootstrap@5.2.2/dist/css/bootstrap.min.css&quot;/&gt;\n",
              "    &lt;link rel=&quot;stylesheet&quot; href=&quot;https://netdna.bootstrapcdn.com/bootstrap/3.0.0/css/bootstrap.min.css&quot;/&gt;\n",
              "    &lt;link rel=&quot;stylesheet&quot; href=&quot;https://cdn.jsdelivr.net/npm/@fortawesome/fontawesome-free@6.2.0/css/all.min.css&quot;/&gt;\n",
              "    &lt;link rel=&quot;stylesheet&quot; href=&quot;https://cdnjs.cloudflare.com/ajax/libs/Leaflet.awesome-markers/2.0.2/leaflet.awesome-markers.css&quot;/&gt;\n",
              "    &lt;link rel=&quot;stylesheet&quot; href=&quot;https://cdn.jsdelivr.net/gh/python-visualization/folium/folium/templates/leaflet.awesome.rotate.min.css&quot;/&gt;\n",
              "    \n",
              "            &lt;meta name=&quot;viewport&quot; content=&quot;width=device-width,\n",
              "                initial-scale=1.0, maximum-scale=1.0, user-scalable=no&quot; /&gt;\n",
              "            &lt;style&gt;\n",
              "                #map_06d996d6133d80c5c56ef5c15ed62055 {\n",
              "                    position: relative;\n",
              "                    width: 100.0%;\n",
              "                    height: 100.0%;\n",
              "                    left: 0.0%;\n",
              "                    top: 0.0%;\n",
              "                }\n",
              "                .leaflet-container { font-size: 1rem; }\n",
              "            &lt;/style&gt;\n",
              "        \n",
              "&lt;/head&gt;\n",
              "&lt;body&gt;\n",
              "    \n",
              "    \n",
              "            &lt;div class=&quot;folium-map&quot; id=&quot;map_06d996d6133d80c5c56ef5c15ed62055&quot; &gt;&lt;/div&gt;\n",
              "        \n",
              "&lt;/body&gt;\n",
              "&lt;script&gt;\n",
              "    \n",
              "    \n",
              "            var map_06d996d6133d80c5c56ef5c15ed62055 = L.map(\n",
              "                &quot;map_06d996d6133d80c5c56ef5c15ed62055&quot;,\n",
              "                {\n",
              "                    center: [4.2105, 101.9758],\n",
              "                    crs: L.CRS.EPSG3857,\n",
              "                    zoom: 6,\n",
              "                    zoomControl: true,\n",
              "                    preferCanvas: false,\n",
              "                }\n",
              "            );\n",
              "\n",
              "            \n",
              "\n",
              "        \n",
              "    \n",
              "            var tile_layer_069505829c53edb5ebe97df87d36fb50 = L.tileLayer(\n",
              "                &quot;https://{s}.tile.openstreetmap.org/{z}/{x}/{y}.png&quot;,\n",
              "                {&quot;attribution&quot;: &quot;Data by \\u0026copy; \\u003ca target=\\&quot;_blank\\&quot; href=\\&quot;http://openstreetmap.org\\&quot;\\u003eOpenStreetMap\\u003c/a\\u003e, under \\u003ca target=\\&quot;_blank\\&quot; href=\\&quot;http://www.openstreetmap.org/copyright\\&quot;\\u003eODbL\\u003c/a\\u003e.&quot;, &quot;detectRetina&quot;: false, &quot;maxNativeZoom&quot;: 18, &quot;maxZoom&quot;: 18, &quot;minZoom&quot;: 0, &quot;noWrap&quot;: false, &quot;opacity&quot;: 1, &quot;subdomains&quot;: &quot;abc&quot;, &quot;tms&quot;: false}\n",
              "            ).addTo(map_06d996d6133d80c5c56ef5c15ed62055);\n",
              "        \n",
              "    \n",
              "            var tile_layer_921aa26413bbade698831b3c722d5abb = L.tileLayer(\n",
              "                &quot;https://earthengine.googleapis.com/v1/projects/co2calculator-407613/maps/6638a02d4bc1d67b30cf0e0a6f1b4c91-45d272a21664c037f37d5d4b875a5018/tiles/{z}/{x}/{y}&quot;,\n",
              "                {&quot;attribution&quot;: &quot;Map Data \\u0026copy; \\u003ca href=\\&quot;https://earthengine.google.com/\\&quot;\\u003eGoogle Earth Engine\\u003c/a\\u003e&quot;, &quot;detectRetina&quot;: false, &quot;maxNativeZoom&quot;: 18, &quot;maxZoom&quot;: 18, &quot;minZoom&quot;: 0, &quot;noWrap&quot;: false, &quot;opacity&quot;: 1, &quot;subdomains&quot;: &quot;abc&quot;, &quot;tms&quot;: false}\n",
              "            ).addTo(map_06d996d6133d80c5c56ef5c15ed62055);\n",
              "        \n",
              "    \n",
              "            var tile_layer_2b11da96605ba818122e2d9ceb1500ba = L.tileLayer(\n",
              "                &quot;https://earthengine.googleapis.com/v1/projects/co2calculator-407613/maps/e4f68cf08d69cada94fa8e93684e6581-7e2229edfeb42efc9f3764baeb76eb3c/tiles/{z}/{x}/{y}&quot;,\n",
              "                {&quot;attribution&quot;: &quot;Map Data \\u0026copy; \\u003ca href=\\&quot;https://earthengine.google.com/\\&quot;\\u003eGoogle Earth Engine\\u003c/a\\u003e&quot;, &quot;detectRetina&quot;: false, &quot;maxNativeZoom&quot;: 18, &quot;maxZoom&quot;: 18, &quot;minZoom&quot;: 0, &quot;noWrap&quot;: false, &quot;opacity&quot;: 1, &quot;subdomains&quot;: &quot;abc&quot;, &quot;tms&quot;: false}\n",
              "            ).addTo(map_06d996d6133d80c5c56ef5c15ed62055);\n",
              "        \n",
              "    \n",
              "            var layer_control_9f1d563d1d35084b80aad7dd8c77824e = {\n",
              "                base_layers : {\n",
              "                    &quot;openstreetmap&quot; : tile_layer_069505829c53edb5ebe97df87d36fb50,\n",
              "                },\n",
              "                overlays :  {\n",
              "                    &quot;Canopy&quot; : tile_layer_921aa26413bbade698831b3c722d5abb,\n",
              "                    &quot;Standard Deviation&quot; : tile_layer_2b11da96605ba818122e2d9ceb1500ba,\n",
              "                },\n",
              "            };\n",
              "            L.control.layers(\n",
              "                layer_control_9f1d563d1d35084b80aad7dd8c77824e.base_layers,\n",
              "                layer_control_9f1d563d1d35084b80aad7dd8c77824e.overlays,\n",
              "                {&quot;autoZIndex&quot;: true, &quot;collapsed&quot;: true, &quot;position&quot;: &quot;topright&quot;}\n",
              "            ).addTo(map_06d996d6133d80c5c56ef5c15ed62055);\n",
              "        \n",
              "&lt;/script&gt;\n",
              "&lt;/html&gt;\" style=\"position:absolute;width:100%;height:100%;left:0;top:0;border:none !important;\" allowfullscreen webkitallowfullscreen mozallowfullscreen></iframe></div></div>"
            ]
          },
          "metadata": {}
        }
      ]
    },
    {
      "cell_type": "code",
      "source": [],
      "metadata": {
        "id": "qcqmoSjG1o0c"
      },
      "execution_count": null,
      "outputs": []
    }
  ]
}