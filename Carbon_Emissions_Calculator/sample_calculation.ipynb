{
 "cells": [
  {
   "cell_type": "code",
   "execution_count": 1,
   "metadata": {},
   "outputs": [],
   "source": [
    "import requests"
   ]
  },
  {
   "cell_type": "code",
   "execution_count": 9,
   "metadata": {},
   "outputs": [
    {
     "data": {
      "text/plain": [
       "{'flightEmissions': [{'flight': {'origin': 'ZRH',\n",
       "    'destination': 'CDG',\n",
       "    'operatingCarrierCode': 'AF',\n",
       "    'flightNumber': 1115,\n",
       "    'departureDate': {'year': 2024, 'month': 6, 'day': 1}},\n",
       "   'emissionsGramsPerPax': {'first': 93444,\n",
       "    'business': 93444,\n",
       "    'premiumEconomy': 62296,\n",
       "    'economy': 62296}},\n",
       "  {'flight': {'origin': 'CDG',\n",
       "    'destination': 'BOS',\n",
       "    'operatingCarrierCode': 'AF',\n",
       "    'flightNumber': 334,\n",
       "    'departureDate': {'year': 2024, 'month': 6, 'day': 1}},\n",
       "   'emissionsGramsPerPax': {'first': 1385040,\n",
       "    'business': 1108032,\n",
       "    'premiumEconomy': 415512,\n",
       "    'economy': 277008}},\n",
       "  {'flight': {'origin': 'ZRH',\n",
       "    'destination': 'BOS',\n",
       "    'operatingCarrierCode': 'LX',\n",
       "    'flightNumber': 52,\n",
       "    'departureDate': {'year': 2024, 'month': 5, 'day': 1}},\n",
       "   'emissionsGramsPerPax': {'first': 1908475,\n",
       "    'business': 1526780,\n",
       "    'premiumEconomy': 572542,\n",
       "    'economy': 381695}}],\n",
       " 'modelVersion': {'major': 1, 'minor': 8, 'patch': 0, 'dated': '20231209'}}"
      ]
     },
     "execution_count": 9,
     "metadata": {},
     "output_type": "execute_result"
    }
   ],
   "source": [
    "with open('google_cloud_api_key.txt','r') as f:\n",
    "    api_key = f.readline()\n",
    "\n",
    "body = {\n",
    "    \"flights\": [\n",
    "      {\n",
    "        \"origin\": \"ZRH\",\n",
    "        \"destination\": \"CDG\",\n",
    "        \"operatingCarrierCode\": \"AF\",\n",
    "        \"flightNumber\": 1115,\n",
    "        \"departureDate\": {\"year\": 2024, \"month\": 6, \"day\": 1}\n",
    "      },\n",
    "      {\n",
    "        \"origin\": \"CDG\",\n",
    "        \"destination\": \"BOS\",\n",
    "        \"operatingCarrierCode\": \"AF\",\n",
    "        \"flightNumber\": 334,\n",
    "        \"departureDate\": {\"year\": 2024, \"month\": 6, \"day\": 1}\n",
    "      },\n",
    "      {\n",
    "        \"origin\": \"ZRH\",\n",
    "        \"destination\": \"BOS\",\n",
    "        \"operatingCarrierCode\": \"LX\",\n",
    "        \"flightNumber\": 52,\n",
    "        \"departureDate\": {\"year\": 2024, \"month\": 5, \"day\": 1}\n",
    "      }\n",
    "    ]\n",
    "  }\n",
    "\n",
    "res = requests.post(f'https://travelimpactmodel.googleapis.com/v1/flights:computeFlightEmissions?',\n",
    "                    headers = {'X-goog-api-key':api_key.strip()},\n",
    "                    json=body)\n",
    "res.json()"
   ]
  }
 ],
 "metadata": {
  "kernelspec": {
   "display_name": "Python 3",
   "language": "python",
   "name": "python3"
  },
  "language_info": {
   "codemirror_mode": {
    "name": "ipython",
    "version": 3
   },
   "file_extension": ".py",
   "mimetype": "text/x-python",
   "name": "python",
   "nbconvert_exporter": "python",
   "pygments_lexer": "ipython3",
   "version": "3.9.13"
  }
 },
 "nbformat": 4,
 "nbformat_minor": 2
}
